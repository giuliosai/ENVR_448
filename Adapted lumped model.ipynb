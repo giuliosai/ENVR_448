{
 "cells": [
  {
   "cell_type": "code",
   "execution_count": 1,
   "id": "d5bcc9a3",
   "metadata": {},
   "outputs": [],
   "source": [
    "from scipy.integrate import odeint\n",
    "import numpy as np\n",
    "import matplotlib.pyplot as plt"
   ]
  },
  {
   "cell_type": "code",
   "execution_count": 27,
   "id": "5d9c4aa4",
   "metadata": {},
   "outputs": [
    {
     "name": "stdout",
     "output_type": "stream",
     "text": [
      "1\n"
     ]
    }
   ],
   "source": [
    "#why would I want to pass variables using a class (structure) rather than without it?\n",
    "\n",
    "class param:\n",
    "    C_1 = 1\n",
    "    U_B = 1\n",
    "    H_R = 1\n",
    "    S_0 = 0.5\n",
    "    C_2 = 1\n",
    "    C_3 = 1\n",
    "    PHI_0 = 8\n",
    "    ALPHA = 5/4\n",
    "    V_P = 5\n",
    "    Q_IN = 1000 # eventually also function of time\n",
    "    MAX_Q_IN = 100 # eventually this will be a function of temp\n",
    "    MIN_Q_IN = 3 # same here ^^\n",
    "    N_MAX = 40\n",
    "    L = 40\n",
    "    \n",
    "print(param.C_1)"
   ]
  },
  {
   "cell_type": "code",
   "execution_count": 44,
   "id": "e7588868",
   "metadata": {},
   "outputs": [],
   "source": [
    "%run q_s.ipynb"
   ]
  },
  {
   "cell_type": "code",
   "execution_count": 47,
   "id": "fb8bb3d5",
   "metadata": {},
   "outputs": [
    {
     "name": "stdout",
     "output_type": "stream",
     "text": [
      "[-62.5, -200.0]\n"
     ]
    }
   ],
   "source": [
    "def glof_odes(x, t, param):\n",
    "\n",
    "    # assign each ODE to a vector element\n",
    "    S = x[0]\n",
    "    N = x[1]\n",
    "    \n",
    "    #define inside functions:\n",
    "\n",
    "    phi = param.PHI_0 - N/param.L\n",
    "    \n",
    "    n = 3\n",
    "    q = param.C_3*(S**param.ALPHA)*(abs(phi)**-0.5)*phi\n",
    "    v_0 = param.U_B*param.H_R*(1-S/param.S_0)\n",
    "    v_c = param.C_2*S*(abs(N)**(n-1))*N\n",
    "    \n",
    "    # define each ODE\n",
    "    dSdt = param.C_1*q_s(N, q, param)*phi + v_0 - v_c\n",
    "    dNdt = (-1/param.V_P)*(param.Q_IN - q_s(N, q, param))\n",
    "\n",
    "    return [dSdt, dNdt]\n",
    "\n",
    "x0 = [param.S_0,5]\n",
    "t0 = 0\n",
    "\n",
    "print(glof_odes(x0,t0,param))"
   ]
  },
  {
   "cell_type": "code",
   "execution_count": 46,
   "id": "78f365bc",
   "metadata": {},
   "outputs": [
    {
     "data": {
      "image/png": "[encoded data removed]",
      "text/plain": [
       "<Figure size 640x480 with 2 Axes>"
      ]
     },
     "metadata": {},
     "output_type": "display_data"
    }
   ],
   "source": [
    "#plotting on two separate plots\n",
    "\n",
    "t = np.linspace(0,1,100)\n",
    "x = odeint(glof_odes,x0,t,args = (param,)) #anonymous fnc in matlab, to pass param with glof_odes in another fnc to use in odeint\n",
    "#what odeint likes for passing parameters, what other arguments it takes\n",
    "\n",
    "S = x[:,0]\n",
    "N = x[:,1]\n",
    "\n",
    "plt.subplot(2,1,1)\n",
    "plt.plot(t, S, color=\"blue\")\n",
    "plt.ylabel(\"S\")\n",
    "plt.xlabel(\"time\")\n",
    "plt.title(\"S time series\")\n",
    "\n",
    "plt.subplot(2,1,2)\n",
    "plt.plot(t, N, color = \"red\")\n",
    "plt.ylabel(\"N\")\n",
    "plt.xlabel(\"time\")\n",
    "plt.title(\"N time series\")\n",
    "\n",
    "plt.tight_layout()\n"
   ]
  },
  {
   "cell_type": "code",
   "execution_count": null,
   "id": "3d1525d1",
   "metadata": {},
   "outputs": [],
   "source": []
  }
 ],
 "metadata": {
  "kernelspec": {
   "display_name": "Python 3 (ipykernel)",
   "language": "python",
   "name": "python3"
  },
  "language_info": {
   "codemirror_mode": {
    "name": "ipython",
    "version": 3
   },
   "file_extension": ".py",
   "mimetype": "text/x-python",
   "name": "python",
   "nbconvert_exporter": "python",
   "pygments_lexer": "ipython3",
   "version": "3.9.13"
  }
 },
 "nbformat": 4,
 "nbformat_minor": 5
}
