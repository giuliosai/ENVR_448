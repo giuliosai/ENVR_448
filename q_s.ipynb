{
 "cells": [
  {
   "cell_type": "code",
   "execution_count": 1,
   "id": "1e0db34b",
   "metadata": {},
   "outputs": [],
   "source": [
    "from scipy.integrate import odeint\n",
    "import numpy as np\n",
    "import matplotlib.pyplot as plt"
   ]
  },
  {
   "cell_type": "code",
   "execution_count": 2,
   "id": "314cdde3",
   "metadata": {},
   "outputs": [],
   "source": [
    "def q_s(N, q, param):  # NEED TO FIND A BETTER WAY TO DEFINE THIS PIECEWISE FUNCTION, try to define it in an external file\n",
    "        #N = np.asarray(N)\n",
    "        #q_s = np.zeros(N.shape)\n",
    "    if N <= 0:\n",
    "        return q_s == max(q, param.MAX_Q_IN) # need to check if this is what the formula is actually saying\n",
    "    elif N > 0 and N < param.N_MAX:\n",
    "        return q_s == q\n",
    "    elif N >= param.N_MAX:\n",
    "        return q_s == min(q, param.MIN_Q_IN) # again need to check this"
   ]
  },
  {
   "cell_type": "code",
   "execution_count": null,
   "id": "a6b858e8",
   "metadata": {},
   "outputs": [],
   "source": []
  }
 ],
 "metadata": {
  "kernelspec": {
   "display_name": "Python 3 (ipykernel)",
   "language": "python",
   "name": "python3"
  },
  "language_info": {
   "codemirror_mode": {
    "name": "ipython",
    "version": 3
   },
   "file_extension": ".py",
   "mimetype": "text/x-python",
   "name": "python",
   "nbconvert_exporter": "python",
   "pygments_lexer": "ipython3",
   "version": "3.9.13"
  }
 },
 "nbformat": 4,
 "nbformat_minor": 5
}
